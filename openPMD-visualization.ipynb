{
 "cells": [
  {
   "cell_type": "code",
   "execution_count": 3,
   "metadata": {},
   "outputs": [],
   "source": [
    "import numpy as np\n",
    "%matplotlib widget\n",
    "import matplotlib.pyplot as plt\n",
    "from opmd_viewer import OpenPMDTimeSeries"
   ]
  },
  {
   "cell_type": "code",
   "execution_count": 10,
   "metadata": {},
   "outputs": [
    {
     "data": {
      "text/plain": [
       "<opmd_viewer.openpmd_timeseries.main.OpenPMDTimeSeries at 0x7f224594b5c0>"
      ]
     },
     "execution_count": 10,
     "metadata": {},
     "output_type": "execute_result"
    }
   ],
   "source": [
    "ts = OpenPMDTimeSeries('/tmp/nbody_gpu_test_run')\n",
    "# ts = OpenPMDTimeSeries('/mnt/hdd/data/gpu_run_debug')\n",
    "# ts = OpenPMDTimeSeries('/home/dominik/Code/openPMD/openPMD-example-datasets/example-3d/hdf5/')\n",
    "ts"
   ]
  },
  {
   "cell_type": "code",
   "execution_count": 11,
   "metadata": {},
   "outputs": [
    {
     "data": {
      "application/vnd.jupyter.widget-view+json": {
       "model_id": "0501a5273a3547129b48ad48a6fd0e29",
       "version_major": 2,
       "version_minor": 0
      },
      "text/plain": [
       "HBox(children=(Button(description='-', layout=Layout(width='40px'), style=ButtonStyle()), Button(description='…"
      ]
     },
     "metadata": {},
     "output_type": "display_data"
    },
    {
     "data": {
      "application/vnd.jupyter.widget-view+json": {
       "model_id": "c737447ee198440bba2704091883cc66",
       "version_major": 2,
       "version_minor": 0
      },
      "text/plain": [
       "VBox(children=(Accordion(children=(VBox(children=(Dropdown(layout=Layout(width='250px'), options=('particles',…"
      ]
     },
     "metadata": {},
     "output_type": "display_data"
    },
    {
     "data": {
      "application/vnd.jupyter.widget-view+json": {
       "model_id": "fc671fbd51674e96abe2a9ee69ca8952",
       "version_major": 2,
       "version_minor": 0
      },
      "text/plain": [
       "FigureCanvasNbAgg()"
      ]
     },
     "metadata": {},
     "output_type": "display_data"
    }
   ],
   "source": [
    "# Interactive GUI\n",
    "ts.slider()"
   ]
  },
  {
   "cell_type": "code",
   "execution_count": 12,
   "metadata": {},
   "outputs": [
    {
     "data": {
      "text/plain": [
       "['/tmp/nbody_gpu_test_run/data00000000.h5',\n",
       " '/tmp/nbody_gpu_test_run/data00000100.h5',\n",
       " '/tmp/nbody_gpu_test_run/data00000200.h5',\n",
       " '/tmp/nbody_gpu_test_run/data00000300.h5',\n",
       " '/tmp/nbody_gpu_test_run/data00000400.h5',\n",
       " '/tmp/nbody_gpu_test_run/data00000500.h5',\n",
       " '/tmp/nbody_gpu_test_run/data00000600.h5',\n",
       " '/tmp/nbody_gpu_test_run/data00000700.h5',\n",
       " '/tmp/nbody_gpu_test_run/data00000800.h5',\n",
       " '/tmp/nbody_gpu_test_run/data00000900.h5',\n",
       " '/tmp/nbody_gpu_test_run/data00001000.h5']"
      ]
     },
     "execution_count": 12,
     "metadata": {},
     "output_type": "execute_result"
    }
   ],
   "source": [
    "ts.h5_files"
   ]
  },
  {
   "cell_type": "code",
   "execution_count": 13,
   "metadata": {},
   "outputs": [],
   "source": [
    "import h5py\n",
    "h5_files = [h5py.File(f) for f in ts.h5_files]"
   ]
  },
  {
   "cell_type": "code",
   "execution_count": 21,
   "metadata": {},
   "outputs": [
    {
     "data": {
      "text/html": [
       "<div>\n",
       "<style scoped>\n",
       "    .dataframe tbody tr th:only-of-type {\n",
       "        vertical-align: middle;\n",
       "    }\n",
       "\n",
       "    .dataframe tbody tr th {\n",
       "        vertical-align: top;\n",
       "    }\n",
       "\n",
       "    .dataframe thead th {\n",
       "        text-align: right;\n",
       "    }\n",
       "</style>\n",
       "<table border=\"1\" class=\"dataframe\">\n",
       "  <thead>\n",
       "    <tr style=\"text-align: right;\">\n",
       "      <th></th>\n",
       "      <th>kinetic_energy</th>\n",
       "      <th>potential_energy</th>\n",
       "      <th>temperature</th>\n",
       "      <th>total_energy</th>\n",
       "    </tr>\n",
       "  </thead>\n",
       "  <tbody>\n",
       "    <tr>\n",
       "      <th>0</th>\n",
       "      <td>2.754142e-18</td>\n",
       "      <td>-1.151071e-28</td>\n",
       "      <td>260.250204</td>\n",
       "      <td>2.754142e-18</td>\n",
       "    </tr>\n",
       "    <tr>\n",
       "      <th>100</th>\n",
       "      <td>2.754142e-18</td>\n",
       "      <td>-6.887468e-42</td>\n",
       "      <td>260.250204</td>\n",
       "      <td>2.754142e-18</td>\n",
       "    </tr>\n",
       "    <tr>\n",
       "      <th>200</th>\n",
       "      <td>2.754142e-18</td>\n",
       "      <td>-1.240557e-43</td>\n",
       "      <td>260.250204</td>\n",
       "      <td>2.754142e-18</td>\n",
       "    </tr>\n",
       "    <tr>\n",
       "      <th>300</th>\n",
       "      <td>2.754142e-18</td>\n",
       "      <td>-1.144423e-44</td>\n",
       "      <td>260.250204</td>\n",
       "      <td>2.754142e-18</td>\n",
       "    </tr>\n",
       "    <tr>\n",
       "      <th>400</th>\n",
       "      <td>2.754142e-18</td>\n",
       "      <td>-2.088754e-45</td>\n",
       "      <td>260.250204</td>\n",
       "      <td>2.754142e-18</td>\n",
       "    </tr>\n",
       "    <tr>\n",
       "      <th>500</th>\n",
       "      <td>2.754142e-18</td>\n",
       "      <td>-5.559591e-46</td>\n",
       "      <td>260.250204</td>\n",
       "      <td>2.754142e-18</td>\n",
       "    </tr>\n",
       "    <tr>\n",
       "      <th>600</th>\n",
       "      <td>2.754142e-18</td>\n",
       "      <td>-1.881001e-46</td>\n",
       "      <td>260.250204</td>\n",
       "      <td>2.754142e-18</td>\n",
       "    </tr>\n",
       "    <tr>\n",
       "      <th>700</th>\n",
       "      <td>2.754142e-18</td>\n",
       "      <td>-7.514263e-47</td>\n",
       "      <td>260.250204</td>\n",
       "      <td>2.754142e-18</td>\n",
       "    </tr>\n",
       "    <tr>\n",
       "      <th>800</th>\n",
       "      <td>2.754142e-18</td>\n",
       "      <td>-3.390975e-47</td>\n",
       "      <td>260.250204</td>\n",
       "      <td>2.754142e-18</td>\n",
       "    </tr>\n",
       "    <tr>\n",
       "      <th>900</th>\n",
       "      <td>2.754142e-18</td>\n",
       "      <td>-1.679855e-47</td>\n",
       "      <td>260.250204</td>\n",
       "      <td>2.754142e-18</td>\n",
       "    </tr>\n",
       "  </tbody>\n",
       "</table>\n",
       "</div>"
      ],
      "text/plain": [
       "     kinetic_energy  potential_energy  temperature  total_energy\n",
       "0      2.754142e-18     -1.151071e-28   260.250204  2.754142e-18\n",
       "100    2.754142e-18     -6.887468e-42   260.250204  2.754142e-18\n",
       "200    2.754142e-18     -1.240557e-43   260.250204  2.754142e-18\n",
       "300    2.754142e-18     -1.144423e-44   260.250204  2.754142e-18\n",
       "400    2.754142e-18     -2.088754e-45   260.250204  2.754142e-18\n",
       "500    2.754142e-18     -5.559591e-46   260.250204  2.754142e-18\n",
       "600    2.754142e-18     -1.881001e-46   260.250204  2.754142e-18\n",
       "700    2.754142e-18     -7.514263e-47   260.250204  2.754142e-18\n",
       "800    2.754142e-18     -3.390975e-47   260.250204  2.754142e-18\n",
       "900    2.754142e-18     -1.679855e-47   260.250204  2.754142e-18"
      ]
     },
     "execution_count": 21,
     "metadata": {},
     "output_type": "execute_result"
    }
   ],
   "source": [
    "import pandas as pd\n",
    "df = pd.read_json('/tmp/nbody_gpu_test_run/diagnostic_results.json').T\n",
    "df[\"total_energy\"] = df[\"kinetic_energy\"] + df[\"potential_energy\"]\n",
    "df"
   ]
  },
  {
   "cell_type": "code",
   "execution_count": 26,
   "metadata": {},
   "outputs": [
    {
     "data": {
      "application/vnd.jupyter.widget-view+json": {
       "model_id": "b9665b90d2c649f59502bbab3b1d6b0d",
       "version_major": 2,
       "version_minor": 0
      },
      "text/plain": [
       "FigureCanvasNbAgg()"
      ]
     },
     "metadata": {},
     "output_type": "display_data"
    },
    {
     "data": {
      "text/plain": [
       "<matplotlib.axes._subplots.AxesSubplot at 0x7f223e2017f0>"
      ]
     },
     "execution_count": 26,
     "metadata": {},
     "output_type": "execute_result"
    }
   ],
   "source": [
    "df.drop('temperature', axis=1).plot()"
   ]
  },
  {
   "cell_type": "code",
   "execution_count": 14,
   "metadata": {},
   "outputs": [
    {
     "name": "stdout",
     "output_type": "stream",
     "text": [
      "diff --git a/config.json b/config.json\n",
      "index b86da69..c643735 100644\n",
      "--- a/config.json\n",
      "+++ b/config.json\n",
      "@@ -4,7 +4,7 @@\n",
      "   \"well_depth\": 1.6540169269599997e-21\n",
      "  },\n",
      "  \"N\": 4096,\n",
      "- \"file_path\": \"/mnt/hdd/data/gpu_run_debug/data{0:08d}.h5\",\n",
      "+ \"file_path\": \"/mnt/hdd/data/gpu_run_debug2/data{0:08d}.h5\",\n",
      "  \"N_iterations\": 100,\n",
      "  \"dt\": 1e-09,\n",
      "  \"q\": 0,\n",
      "@@ -12,5 +12,5 @@\n",
      "  \"T\": 273,\n",
      "  \"box_L\": 1e-07,\n",
      "  \"save_every_x_iters\": 10,\n",
      "- \"gpu\": True\n",
      "+ \"gpu\": true\n",
      " }\n",
      "diff --git a/environment.yml b/environment.yml\n",
      "index f72146a..dc97461 100644\n",
      "--- a/environment.yml\n",
      "+++ b/environment.yml\n",
      "@@ -4,6 +4,7 @@ channels:\n",
      " dependencies:\n",
      "   - python=3.6\n",
      "   - numba # TODO pin versions\n",
      "+  - astropy\n",
      "   - cupy\n",
      "   - numpy\n",
      "   - pytest\n",
      "diff --git a/nbody/initial_conditions.py b/nbody/initial_conditions.py\n",
      "index 79a7ba1..bc752d4 100644\n",
      "--- a/nbody/initial_conditions.py\n",
      "+++ b/nbody/initial_conditions.py\n",
      "@@ -8,7 +8,7 @@ import numpy as np\n",
      " import math\n",
      " import git\n",
      " \n",
      "-k_B = 1.380_648_52e-23\n",
      "+from nbody.constants import k_B\n",
      " \n",
      " try:\n",
      "     import cupy\n",
      "diff --git a/nbody/integrators.py b/nbody/integrators.py\n",
      "index fd375ef..4fe2cf7 100644\n",
      "--- a/nbody/integrators.py\n",
      "+++ b/nbody/integrators.py\n",
      "@@ -43,6 +43,3 @@ def move(\n",
      "         L = parse_L(L)\n",
      "         r %= L\n",
      " \n",
      "-\n",
      "-def kinetic_energy(p, m):\n",
      "-    return (p ** 2 / m).sum() / 2.0\n",
      "diff --git a/nbody/run_nbody.py b/nbody/run_nbody.py\n",
      "index 31fab39..c553eae 100644\n",
      "--- a/nbody/run_nbody.py\n",
      "+++ b/nbody/run_nbody.py\n",
      "@@ -11,7 +11,8 @@ from nbody.initial_conditions import (\n",
      "     create_openpmd_hdf5,\n",
      "     save_to_hdf5,\n",
      " )\n",
      "-from nbody.integrators import verlet_step, kinetic_energy\n",
      "+from nbody.integrators import verlet_step\n",
      "+from nbody.diagnostics import get_all_diagnostics\n",
      " \n",
      " \n",
      " def save_iteration(hdf5_file, i_iteration, time, dt, r, p, m, q, start_parameters=None):\n",
      "@@ -57,15 +58,18 @@ def run(\n",
      "     calculate_forces(r, out=forces, **force_params)\n",
      " \n",
      "     save_iteration(file_path, 0, 0, 0, r, p, m, q, start_parameters)\n",
      "+    diagnostic_values = {}\n",
      " \n",
      "     with trange(N_iterations) as t:\n",
      "         for i in t:\n",
      "-            t.set_postfix(kinetic_energy=kinetic_energy(p, m))\n",
      "             verlet_step(\n",
      "                 r, p, m, forces, dt, force_calculator=calculate_forces, **force_params\n",
      "             )\n",
      " \n",
      "             if check_saving_time(i, save_every_x_iters):\n",
      "+                current_diagnostics = get_all_diagnostics(r, p, m, force_params)\n",
      "+                diagnostic_values[i] = current_diagnostics \n",
      "+                t.set_postfix(**current_diagnostics)\n",
      "                 save_iteration(file_path, i, i * dt, dt, r, p, m, q, start_parameters)\n",
      " \n",
      "     path = save_iteration(\n",
      "@@ -73,6 +77,11 @@ def run(\n",
      "     )\n",
      "     print(f\"Saved to {os.path.dirname(path)}!\")\n",
      " \n",
      "+    json_path = os.path.join(os.path.dirname(path), \"diagnostic_results.json\")\n",
      "+    with open(json_path, \"w\") as f:\n",
      "+        json.dump(diagnostic_values, f)\n",
      "+    return diagnostic_values\n",
      "+\n",
      " \n",
      " @click.command()\n",
      " @click.option(\"--config\", default=\"config.json\", help=\"Config\")\n",
      "diff --git a/nbody/tests/test_integrators.py b/nbody/tests/test_integrators.py\n",
      "index f7573b7..d413d5e 100644\n",
      "--- a/nbody/tests/test_integrators.py\n",
      "+++ b/nbody/tests/test_integrators.py\n",
      "@@ -5,7 +5,8 @@ from hypothesis import given\n",
      " from hypothesis.extra.numpy import arrays\n",
      " from hypothesis.strategies import floats, random_module\n",
      " \n",
      "-from nbody.integrators import verlet_step, kinetic_energy\n",
      "+from nbody.integrators import verlet_step\n",
      "+from nbody.diagnostics import kinetic_energy\n",
      " \n",
      " N = 6\n",
      " N_iterations = 50\n",
      "diff --git a/nbody/tests/test_run.py b/nbody/tests/test_run.py\n",
      "index 5464831..b23da02 100644\n",
      "--- a/nbody/tests/test_run.py\n",
      "+++ b/nbody/tests/test_run.py\n",
      "@@ -1,5 +1,6 @@\n",
      " import shutil\n",
      " import os\n",
      "+import pytest\n",
      " from nbody.run_nbody import run\n",
      " \n",
      " simulation_params = {\n",
      "@@ -13,15 +14,33 @@ simulation_params = {\n",
      "     \"T\": 273,\n",
      "     \"box_L\": 1e-07,\n",
      "     \"save_every_x_iters\": 10,\n",
      "-    \"gpu\": True,\n",
      "+    \"gpu\": False,\n",
      " }\n",
      " \n",
      " \n",
      " def test_run():\n",
      "-    try:\n",
      "-        import cupy\n",
      "-    except ImportError:\n",
      "-        simulation_params[\"gpu\"] = False\n",
      "     run(**simulation_params)\n",
      "     # this test does absolutely nothing now\n",
      "     shutil.rmtree(os.path.dirname(simulation_params[\"file_path\"]))\n",
      "+\n",
      "+\n",
      "+gpu_simulation_params = {\n",
      "+    \"force_params\": {\"diameter\": 3.405e-10, \"well_depth\": 1.654_016_926_959_999_7e-21},\n",
      "+    \"N\": 512,\n",
      "+    \"file_path\": \"/tmp/nbody_gpu_test_run/data{0:08d}.h5\",\n",
      "+    \"N_iterations\": 1000,\n",
      "+    \"dt\": 1e-09,\n",
      "+    \"q\": 0,\n",
      "+    \"m\": 6.633_521_356_992e-26,\n",
      "+    \"T\": 273,\n",
      "+    \"box_L\": 1e-07,\n",
      "+    \"save_every_x_iters\": 100,\n",
      "+    \"gpu\": True,\n",
      "+}\n",
      "+\n",
      "+@pytest.mark.gpu\n",
      "+def test_gpu_run():\n",
      "+    run(**gpu_simulation_params)\n",
      "+    # this test does absolutely nothing now\n",
      "+    # shutil.rmtree(os.path.dirname(simulation_params[\"file_path\"]))\n",
      "+\n",
      "diff --git a/openPMD-visualization.ipynb b/openPMD-visualization.ipynb\n",
      "index ae82174..e49b9f2 100644\n",
      "--- a/openPMD-visualization.ipynb\n",
      "+++ b/openPMD-visualization.ipynb\n",
      "@@ -18,7 +18,7 @@\n",
      "    \"metadata\": {},\n",
      "    \"outputs\": [],\n",
      "    \"source\": [\n",
      "-    \"\\n\",\n",
      "+    \"ts = OpenPMDTimeSeries('/tmp//hdd/data/gpu_run_debug')\\n\",\n",
      "     \"ts = OpenPMDTimeSeries('/mnt/hdd/data/gpu_run_debug')\\n\",\n",
      "     \"# ts = OpenPMDTimeSeries('/home/dominik/Code/openPMD/openPMD-example-datasets/example-3d/hdf5/')\"\n",
      "    ]\n"
     ]
    }
   ],
   "source": [
    "print(dict(h5_files[0].attrs)['git_diff'])"
   ]
  }
 ],
 "metadata": {
  "kernelspec": {
   "display_name": "Python [conda env:nbody]",
   "language": "python",
   "name": "conda-env-nbody-py"
  },
  "language_info": {
   "codemirror_mode": {
    "name": "ipython",
    "version": 3
   },
   "file_extension": ".py",
   "mimetype": "text/x-python",
   "name": "python",
   "nbconvert_exporter": "python",
   "pygments_lexer": "ipython3",
   "version": "3.7.1"
  }
 },
 "nbformat": 4,
 "nbformat_minor": 2
}

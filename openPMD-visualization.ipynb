{
 "cells": [
  {
   "cell_type": "code",
   "execution_count": 5,
   "metadata": {},
   "outputs": [],
   "source": [
    "import numpy as np\n",
    "%matplotlib widget\n",
    "import matplotlib.pyplot as plt\n",
    "from opmd_viewer import OpenPMDTimeSeries"
   ]
  },
  {
   "cell_type": "code",
   "execution_count": 6,
   "metadata": {},
   "outputs": [],
   "source": [
    "\n",
    "ts = OpenPMDTimeSeries('/mnt/hdd/data/gpu_run_debug')\n",
    "# ts = OpenPMDTimeSeries('/home/dominik/Code/openPMD/openPMD-example-datasets/example-3d/hdf5/')"
   ]
  },
  {
   "cell_type": "code",
   "execution_count": 7,
   "metadata": {},
   "outputs": [
    {
     "data": {
      "application/vnd.jupyter.widget-view+json": {
       "model_id": "14df6a1baac74301be46aef045a490e3",
       "version_major": 2,
       "version_minor": 0
      },
      "text/plain": [
       "HBox(children=(Button(description='-', layout=Layout(width='40px'), style=ButtonStyle()), Button(description='…"
      ]
     },
     "metadata": {},
     "output_type": "display_data"
    },
    {
     "data": {
      "application/vnd.jupyter.widget-view+json": {
       "model_id": "da7b700ac7aa490d953c37a924532ad0",
       "version_major": 2,
       "version_minor": 0
      },
      "text/plain": [
       "VBox(children=(Accordion(children=(VBox(children=(Dropdown(layout=Layout(width='250px'), options=('particles',…"
      ]
     },
     "metadata": {},
     "output_type": "display_data"
    },
    {
     "data": {
      "application/vnd.jupyter.widget-view+json": {
       "model_id": "51861a8faa7f41f3ab3b796cb8c66c1f",
       "version_major": 2,
       "version_minor": 0
      },
      "text/plain": [
       "FigureCanvasNbAgg()"
      ]
     },
     "metadata": {},
     "output_type": "display_data"
    }
   ],
   "source": [
    "# Interactive GUI\n",
    "ts.slider()"
   ]
  },
  {
   "cell_type": "code",
   "execution_count": 8,
   "metadata": {},
   "outputs": [
    {
     "data": {
      "text/plain": [
       "['/mnt/hdd/data/gpu_run_debug/data00000000.h5',\n",
       " '/mnt/hdd/data/gpu_run_debug/data00000010.h5',\n",
       " '/mnt/hdd/data/gpu_run_debug/data00000020.h5',\n",
       " '/mnt/hdd/data/gpu_run_debug/data00000030.h5',\n",
       " '/mnt/hdd/data/gpu_run_debug/data00000040.h5',\n",
       " '/mnt/hdd/data/gpu_run_debug/data00000050.h5',\n",
       " '/mnt/hdd/data/gpu_run_debug/data00000060.h5',\n",
       " '/mnt/hdd/data/gpu_run_debug/data00000070.h5',\n",
       " '/mnt/hdd/data/gpu_run_debug/data00000080.h5',\n",
       " '/mnt/hdd/data/gpu_run_debug/data00000090.h5',\n",
       " '/mnt/hdd/data/gpu_run_debug/data00000100.h5']"
      ]
     },
     "execution_count": 8,
     "metadata": {},
     "output_type": "execute_result"
    }
   ],
   "source": [
    "ts.h5_files"
   ]
  },
  {
   "cell_type": "code",
   "execution_count": 9,
   "metadata": {},
   "outputs": [],
   "source": [
    "import h5py\n",
    "h5_files = [h5py.File(f) for f in ts.h5_files]"
   ]
  },
  {
   "cell_type": "code",
   "execution_count": 15,
   "metadata": {},
   "outputs": [
    {
     "name": "stdout",
     "output_type": "stream",
     "text": [
      "diff --git a/config.json b/config.json\n",
      "index a19aac1..9ecec4e 100644\n",
      "--- a/config.json\n",
      "+++ b/config.json\n",
      "@@ -4,12 +4,12 @@\n",
      "   \"well_depth\": 1.6540169269599997e-21\n",
      "  },\n",
      "  \"N\": 4096,\n",
      "- \"file_path\": \"/mnt/hdd/data/gpu_run/data{0:08d}.h5\",\n",
      "- \"N_iterations\": 10000,\n",
      "+ \"file_path\": \"/mnt/hdd/data/gpu_run_debug/data{0:08d}.h5\",\n",
      "+ \"N_iterations\": 100,\n",
      "  \"dt\": 1e-09,\n",
      "  \"q\": 0,\n",
      "  \"m\": 6.633521356992e-26,\n",
      "  \"velocity_scale\": 1e-8,\n",
      "  \"box_L\": 1e-07,\n",
      "- \"save_every_x_iters\": 100\n",
      "+ \"save_every_x_iters\": 10\n",
      " }\n",
      "diff --git a/environment.yml b/environment.yml\n",
      "index 76bd800..f72146a 100644\n",
      "--- a/environment.yml\n",
      "+++ b/environment.yml\n",
      "@@ -16,3 +16,4 @@ dependencies:\n",
      "   - tqdm\n",
      "   - pip:\n",
      "     - black\n",
      "+    - gitpython\n",
      "diff --git a/nbody/initial_conditions.py b/nbody/initial_conditions.py\n",
      "index b2de569..eb0f2b7 100644\n",
      "--- a/nbody/initial_conditions.py\n",
      "+++ b/nbody/initial_conditions.py\n",
      "@@ -7,7 +7,19 @@ import h5py\n",
      " import numpy as np\n",
      " import cupy as cp\n",
      " import math\n",
      "-\n",
      "+import git\n",
      "+\n",
      "+def get_git_information():\n",
      "+    path = os.path.dirname(os.path.dirname(__file__))\n",
      "+    repo = git.Repo(path)\n",
      "+    branch = repo.active_branch.name\n",
      "+    head = repo.head\n",
      "+    diff = repo.git.diff(head)\n",
      "+    short_sha = repo.git.rev_parse(repo.head.object.hexsha, short=8)\n",
      "+    summary = head.commit.summary\n",
      "+    is_dirty = '(Dirty)' if repo.is_dirty() else ''\n",
      "+    repo_state = f\"{short_sha} ({summary}) branch {branch} {is_dirty}\"\n",
      "+    return repo_state, diff\n",
      " \n",
      " def initialize_matrices(N, m, q, box_L, velocity_scale, gpu=False):\n",
      "     if gpu:\n",
      "@@ -92,6 +104,8 @@ def create_openpmd_hdf5(path, start_parameters=None):\n",
      "     f.attrs[\"iterationFormat\"] = \"/data/{}/\"\n",
      "     if start_parameters is not None:\n",
      "         f.attrs[\"startParameters\"] = json.dumps(start_parameters)\n",
      "+\n",
      "+    f.attrs[\"git_state\"], f.attrs[\"git_diff\"] = get_git_information()\n",
      "     return f\n",
      " \n",
      " \n",
      "diff --git a/nbody/run_nbody.py b/nbody/run_nbody.py\n",
      "index babe5b4..5d7d774 100644\n",
      "--- a/nbody/run_nbody.py\n",
      "+++ b/nbody/run_nbody.py\n",
      "@@ -1,6 +1,7 @@\n",
      " import json\n",
      "-import click\n",
      "+import os\n",
      " \n",
      "+import click\n",
      " from tqdm import trange\n",
      " \n",
      " from nbody.forces.numpy_forces import calculate_forces\n",
      "@@ -14,9 +15,11 @@ from nbody.integrators import verlet_step, kinetic_energy\n",
      " \n",
      " \n",
      " def save_iteration(hdf5_file, i_iteration, time, dt, r, p, m, q, start_parameters=None):\n",
      "-    f = create_openpmd_hdf5(hdf5_file.format(i_iteration), start_parameters)\n",
      "+    path = hdf5_file.format(i_iteration)\n",
      "+    f = create_openpmd_hdf5(path, start_parameters)\n",
      "     save_to_hdf5(f, i_iteration, time, dt, r, p, m, q)\n",
      "     f.close()\n",
      "+    return path\n",
      " \n",
      " \n",
      " def check_saving_time(i_iteration, save_every_x_iters=10):\n",
      "@@ -66,9 +69,10 @@ def run(\n",
      "             if check_saving_time(i, save_every_x_iters):\n",
      "                 save_iteration(file_path, i, i * dt, dt, r, p, m, q, start_parameters)\n",
      " \n",
      "-    save_iteration(\n",
      "+    path = save_iteration(\n",
      "         file_path, N_iterations, N_iterations * dt, dt, r, p, m, q, start_parameters\n",
      "     )\n",
      "+    print(f\"Saved to {os.path.dirname(path)}!\")\n",
      " \n",
      " \n",
      " @click.command()\n"
     ]
    }
   ],
   "source": [
    "print(dict(h5_files[0].attrs)['git_diff'])"
   ]
  }
 ],
 "metadata": {
  "kernelspec": {
   "display_name": "Python [conda env:nbody]",
   "language": "python",
   "name": "conda-env-nbody-py"
  },
  "language_info": {
   "codemirror_mode": {
    "name": "ipython",
    "version": 3
   },
   "file_extension": ".py",
   "mimetype": "text/x-python",
   "name": "python",
   "nbconvert_exporter": "python",
   "pygments_lexer": "ipython3",
   "version": "3.7.1"
  }
 },
 "nbformat": 4,
 "nbformat_minor": 2
}

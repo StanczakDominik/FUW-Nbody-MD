{
 "cells": [
  {
   "cell_type": "code",
   "execution_count": 375,
   "metadata": {},
   "outputs": [],
   "source": [
    "import numpy as np\n",
    "%matplotlib widget\n",
    "import matplotlib.pyplot as plt\n",
    "from opmd_viewer import OpenPMDTimeSeries\n",
    "import pathlib\n",
    "path = pathlib.Path('/mnt/hdd/data/gpu_run_debug5')"
   ]
  },
  {
   "cell_type": "code",
   "execution_count": null,
   "metadata": {},
   "outputs": [
    {
     "name": "stdout",
     "output_type": "stream",
     "text": [
      "rm: cannot remove '/mnt/hdd/data/gpu_run_debug5': Directory not empty\n",
      "/home/dominik/.miniconda3/envs/nbody3.6/lib/python3.6/importlib/_bootstrap.py:219: RuntimeWarning: numpy.dtype size changed, may indicate binary incompatibility. Expected 88 from C header, got 96 from PyObject\n",
      "  return f(*args, **kwds)\n",
      " 56%|▌| 559/1000 [02:27<01:42,  4.29it/s, kinetic_energy=2.26e-17, mean_p=(-6.817867234769268e-40, 7.758262715427098e-40, -1.88079096131566e-40), mean_r=(1.91e-09, 1.9100000000000002e-09, 1.9100000000000002e-09), potential_energy=2.8e-15, std_p=(1.592545343652039e-23, 1.5647081376967427e-23, 1.5892303380512288e-23), std_r=(1.1012069130437693e-09, 1.1013014774626953e-09, 1.101275032104086e-09), temperature=273]"
     ]
    }
   ],
   "source": [
    "!rm -r {path}\n",
    "!/home/dominik/.miniconda3/envs/nbody3.6/bin/python /home/dominik/Code/NBody-MD/nbody/run_nbody.py --config /home/dominik/Code/NBody-MD/config.json"
   ]
  },
  {
   "cell_type": "code",
   "execution_count": 377,
   "metadata": {},
   "outputs": [
    {
     "data": {
      "application/vnd.jupyter.widget-view+json": {
       "model_id": "5f604e1a403649cdb842c3aa5aae5729",
       "version_major": 2,
       "version_minor": 0
      },
      "text/plain": [
       "HBox(children=(Button(description='-', layout=Layout(width='40px'), style=ButtonStyle()), Button(description='…"
      ]
     },
     "metadata": {},
     "output_type": "display_data"
    },
    {
     "data": {
      "application/vnd.jupyter.widget-view+json": {
       "model_id": "d9afad3aff934168be1efe1727fa8b11",
       "version_major": 2,
       "version_minor": 0
      },
      "text/plain": [
       "VBox(children=(Accordion(children=(VBox(children=(Dropdown(layout=Layout(width='250px'), options=('particles',…"
      ]
     },
     "metadata": {},
     "output_type": "display_data"
    },
    {
     "data": {
      "application/vnd.jupyter.widget-view+json": {
       "model_id": "c91a552007054c7fb3170b707a9c514a",
       "version_major": 2,
       "version_minor": 0
      },
      "text/plain": [
       "FigureCanvasNbAgg()"
      ]
     },
     "metadata": {},
     "output_type": "display_data"
    }
   ],
   "source": [
    "ts = OpenPMDTimeSeries(path)\n",
    "ts.slider()"
   ]
  },
  {
   "cell_type": "code",
   "execution_count": 378,
   "metadata": {},
   "outputs": [],
   "source": [
    "import matplotlib.collections as mcoll\n",
    "\n",
    "def colorline(\n",
    "        x, y, z=None, cmap='copper', norm=plt.Normalize(0.0, 1.0),\n",
    "        linewidth=3, alpha=1.0, ax=None):\n",
    "    \"\"\"\n",
    "    http://nbviewer.ipython.org/github/dpsanders/matplotlib-examples/blob/master/colorline.ipynb\n",
    "    http://matplotlib.org/examples/pylab_examples/multicolored_line.html\n",
    "    Plot a colored line with coordinates x and y\n",
    "    Optionally specify colors in the array z\n",
    "    Optionally specify a colormap, a norm function and a line width\n",
    "    \"\"\"\n",
    "\n",
    "    # Default colors equally spaced on [0,1]:\n",
    "    if z is None:\n",
    "        z = np.linspace(0.0, 1.0, len(x))\n",
    "\n",
    "    # Special case if a single number:\n",
    "    # to check for numerical input -- this is a hack\n",
    "    if not hasattr(z, \"__iter__\"):\n",
    "        z = np.array([z])\n",
    "\n",
    "    z = np.asarray(z)\n",
    "\n",
    "    segments = make_segments(x, y)\n",
    "    lc = mcoll.LineCollection(segments, array=z, cmap=cmap, norm=norm,\n",
    "                              linewidth=linewidth, alpha=alpha)\n",
    "\n",
    "    if ax is None:\n",
    "        ax = plt.gca()\n",
    "    ax.add_collection(lc)\n",
    "\n",
    "    return lc\n",
    "\n",
    "def make_segments(x, y):\n",
    "    \"\"\"\n",
    "    Create list of line segments from x and y coordinates, in the correct format\n",
    "    for LineCollection: an array of the form numlines x (points per line) x 2 (x\n",
    "    and y) array\n",
    "    \"\"\"\n",
    "\n",
    "    points = np.array([x, y]).T.reshape(-1, 1, 2)\n",
    "    segments = np.concatenate([points[:-1], points[1:]], axis=1)\n",
    "    return segments"
   ]
  },
  {
   "cell_type": "code",
   "execution_count": 379,
   "metadata": {},
   "outputs": [
    {
     "data": {
      "application/vnd.jupyter.widget-view+json": {
       "model_id": "945da399654c4f8b9926249c6bbb1cd3",
       "version_major": 2,
       "version_minor": 0
      },
      "text/plain": [
       "FigureCanvasNbAgg()"
      ]
     },
     "metadata": {},
     "output_type": "display_data"
    },
    {
     "data": {
      "application/vnd.jupyter.widget-view+json": {
       "model_id": "12ce19b1f34641e79a01ce3c7e07fa43",
       "version_major": 2,
       "version_minor": 0
      },
      "text/plain": [
       "interactive(children=(IntSlider(value=9, description='n_particle', max=19), Dropdown(description='x_quantity',…"
      ]
     },
     "metadata": {},
     "output_type": "display_data"
    }
   ],
   "source": [
    "from opmd_viewer import ParticleTracker\n",
    "from ipywidgets import interactive\n",
    "pt = ParticleTracker( ts, iteration=100, select={'x':[0.0015,0.0017], 'y':[0.0012, 0.0015]}, \n",
    "                         species='particles', preserve_particle_index=True )\n",
    "\n",
    "def get_trajectories(ts, pt):\n",
    "    species = pt.species\n",
    "    components = ts.avail_record_components[species]\n",
    "    N_iterations = len(ts.iterations)\n",
    "    N_particles = pt.N_selected\n",
    "    trajectories = {key: np.empty( ( N_iterations, N_particles)) for key in components}\n",
    "    for i in range( N_iterations ):\n",
    "        current_values = dict(zip(components, ts.get_particle(components, select=pt, iteration=ts.iterations[i], species=species )))\n",
    "        for component in current_values:\n",
    "            trajectories[component][i] = current_values[component]\n",
    "\n",
    "    fig, ax = plt.subplots()\n",
    "    n_particle = 0\n",
    "    x, y = trajectories[components[0]], trajectories[components[1]]\n",
    "    lc = colorline(x, y, cmap='viridis')\n",
    "    lines = [lc]\n",
    "    plt.colorbar(lc)\n",
    "\n",
    "    def f(n_particle, x_quantity, y_quantity):\n",
    "        lines.pop().remove()\n",
    "        x, y = trajectories[x_quantity], trajectories[y_quantity]\n",
    "        lc = colorline(x[:, n_particle], y[:, n_particle], cmap='viridis', ax=ax)\n",
    "        lines.append(lc)\n",
    "        ax.set_xlim(x.min(),\n",
    "               x.max(),\n",
    "               )\n",
    "        ax.set_ylim(y.min(),\n",
    "                   y.max(),\n",
    "                   )\n",
    "\n",
    "        ax.set_xlabel(x_quantity)\n",
    "        ax.set_ylabel(y_quantity)\n",
    "        plt.tight_layout()\n",
    "\n",
    "\n",
    "    interactive_plot = interactive(f,  n_particle=(0, N_particles-1),\n",
    "                                   x_quantity=components,\n",
    "                                   y_quantity=components)\n",
    "    return interactive_plot\n",
    "get_trajectories(ts, pt)"
   ]
  },
  {
   "cell_type": "code",
   "execution_count": 366,
   "metadata": {},
   "outputs": [],
   "source": [
    "# ts.h5_files\n",
    "\n",
    "# import h5py\n",
    "# h5_files = [h5py.File(f) for f in ts.h5_files[:3]]\n",
    "\n",
    "# for f in h5_files:\n",
    "#     f.close()"
   ]
  },
  {
   "cell_type": "code",
   "execution_count": 367,
   "metadata": {},
   "outputs": [
    {
     "data": {
      "application/vnd.jupyter.widget-view+json": {
       "model_id": "",
       "version_major": 2,
       "version_minor": 0
      },
      "text/plain": [
       "FigureCanvasNbAgg()"
      ]
     },
     "metadata": {},
     "output_type": "display_data"
    },
    {
     "data": {
      "text/plain": [
       "<matplotlib.axes._subplots.AxesSubplot at 0x7f90cf7fa9e8>"
      ]
     },
     "execution_count": 367,
     "metadata": {},
     "output_type": "execute_result"
    }
   ],
   "source": [
    "import pandas as pd\n",
    "df = pd.read_json(path / 'diagnostic_results.json', dtype=False).T\n",
    "df[\"total_energy\"] = df[\"kinetic_energy\"] + df[\"potential_energy\"]\n",
    "\n",
    "from IPython.display import display\n",
    "\n",
    "unwrap = ['mean_r', 'std_r', 'mean_p', 'std_p']\n",
    "nested_data = {index: pd.DataFrame(df[index].values.tolist(), index=df.index, columns=['x', 'y', 'z']) for index in unwrap}\n",
    "directional_values = pd.concat(nested_data).stack().unstack(level=1).T\n",
    "# directional_values\n",
    "\n",
    "directional_values['mean_p'].plot()"
   ]
  },
  {
   "cell_type": "code",
   "execution_count": 368,
   "metadata": {},
   "outputs": [
    {
     "data": {
      "application/vnd.jupyter.widget-view+json": {
       "model_id": "",
       "version_major": 2,
       "version_minor": 0
      },
      "text/plain": [
       "FigureCanvasNbAgg()"
      ]
     },
     "metadata": {},
     "output_type": "display_data"
    },
    {
     "data": {
      "text/plain": [
       "<matplotlib.axes._subplots.AxesSubplot at 0x7f90cfe892b0>"
      ]
     },
     "execution_count": 368,
     "metadata": {},
     "output_type": "execute_result"
    }
   ],
   "source": [
    "directional_values['std_r'].plot()"
   ]
  },
  {
   "cell_type": "code",
   "execution_count": 369,
   "metadata": {},
   "outputs": [
    {
     "data": {
      "application/vnd.jupyter.widget-view+json": {
       "model_id": "",
       "version_major": 2,
       "version_minor": 0
      },
      "text/plain": [
       "FigureCanvasNbAgg()"
      ]
     },
     "metadata": {},
     "output_type": "display_data"
    },
    {
     "data": {
      "text/plain": [
       "<matplotlib.axes._subplots.AxesSubplot at 0x7f90cf8d1f60>"
      ]
     },
     "execution_count": 369,
     "metadata": {},
     "output_type": "execute_result"
    }
   ],
   "source": [
    "df.drop(columns=unwrap).drop(columns=['temperature']).plot(logx=True)"
   ]
  },
  {
   "cell_type": "code",
   "execution_count": 370,
   "metadata": {},
   "outputs": [
    {
     "data": {
      "application/vnd.jupyter.widget-view+json": {
       "model_id": "",
       "version_major": 2,
       "version_minor": 0
      },
      "text/plain": [
       "FigureCanvasNbAgg()"
      ]
     },
     "metadata": {},
     "output_type": "display_data"
    },
    {
     "data": {
      "text/plain": [
       "<matplotlib.axes._subplots.AxesSubplot at 0x7f90cfe914a8>"
      ]
     },
     "execution_count": 370,
     "metadata": {},
     "output_type": "execute_result"
    }
   ],
   "source": [
    "df.plot(y='temperature')"
   ]
  },
  {
   "cell_type": "code",
   "execution_count": null,
   "metadata": {},
   "outputs": [],
   "source": []
  }
 ],
 "metadata": {
  "kernelspec": {
   "display_name": "Python [conda env:nbody]",
   "language": "python",
   "name": "conda-env-nbody-py"
  },
  "language_info": {
   "codemirror_mode": {
    "name": "ipython",
    "version": 3
   },
   "file_extension": ".py",
   "mimetype": "text/x-python",
   "name": "python",
   "nbconvert_exporter": "python",
   "pygments_lexer": "ipython3",
   "version": "3.7.1"
  }
 },
 "nbformat": 4,
 "nbformat_minor": 2
}

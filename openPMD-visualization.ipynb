{
 "cells": [
  {
   "cell_type": "code",
   "execution_count": 156,
   "metadata": {},
   "outputs": [],
   "source": [
    "import numpy as np\n",
    "%matplotlib widget\n",
    "import matplotlib.pyplot as plt\n",
    "from opmd_viewer import OpenPMDTimeSeries"
   ]
  },
  {
   "cell_type": "code",
   "execution_count": null,
   "metadata": {},
   "outputs": [
    {
     "name": "stdout",
     "output_type": "stream",
     "text": [
      "/home/dominik/.miniconda3/envs/nbody3.6/lib/python3.6/importlib/_bootstrap.py:219: RuntimeWarning: numpy.dtype size changed, may indicate binary incompatibility. Expected 88 from C header, got 96 from PyObject\n",
      "  return f(*args, **kwds)\n",
      "  8%| | 399/5000 [01:21<14:32,  5.27it/s, kinetic_energy=2.75e-18, mean_p=(-2.201899513350586e-39, 3.674137311133383e-39, -7.369798566678795e-39), mean_r=(1.5279999999999984e-09, 1.5279999999999999e-09, 1.528000000000002e-09), potential_energy=-4.34e-18, std_p=(1.5733264119681285e-23, 1.5815909213017197e-23, 1.4654186905412808e-23), std_r=(8.754207274055966e-10, 8.755737673890385e-10, 8.750375870819156e-10), temperature=260]"
     ]
    }
   ],
   "source": [
    "!rm -r /mnt/hdd/data/gpu_run_debug0/*\n",
    "!/home/dominik/.miniconda3/envs/nbody3.6/bin/python /home/dominik/Code/NBody-MD/nbody/run_nbody.py --config /home/dominik/Code/NBody-MD/config.json"
   ]
  },
  {
   "cell_type": "code",
   "execution_count": 151,
   "metadata": {},
   "outputs": [
    {
     "data": {
      "application/vnd.jupyter.widget-view+json": {
       "model_id": "9535f1379d2b4c199b6534b320d79b76",
       "version_major": 2,
       "version_minor": 0
      },
      "text/plain": [
       "HBox(children=(Button(description='-', layout=Layout(width='40px'), style=ButtonStyle()), Button(description='…"
      ]
     },
     "metadata": {},
     "output_type": "display_data"
    },
    {
     "data": {
      "application/vnd.jupyter.widget-view+json": {
       "model_id": "303700bba58048f29fa82967b402fd87",
       "version_major": 2,
       "version_minor": 0
      },
      "text/plain": [
       "VBox(children=(Accordion(children=(VBox(children=(Dropdown(layout=Layout(width='250px'), options=('particles',…"
      ]
     },
     "metadata": {},
     "output_type": "display_data"
    },
    {
     "data": {
      "application/vnd.jupyter.widget-view+json": {
       "model_id": "",
       "version_major": 2,
       "version_minor": 0
      },
      "text/plain": [
       "FigureCanvasNbAgg()"
      ]
     },
     "metadata": {},
     "output_type": "display_data"
    }
   ],
   "source": [
    "ts = OpenPMDTimeSeries('/mnt/hdd/data/gpu_run_debug0')\n",
    "ts.slider()"
   ]
  },
  {
   "cell_type": "code",
   "execution_count": 152,
   "metadata": {},
   "outputs": [],
   "source": [
    "# ts.h5_files\n",
    "\n",
    "# import h5py\n",
    "# h5_files = [h5py.File(f) for f in ts.h5_files[:3]]\n",
    "\n",
    "# for f in h5_files:\n",
    "#     f.close()"
   ]
  },
  {
   "cell_type": "code",
   "execution_count": 153,
   "metadata": {},
   "outputs": [
    {
     "data": {
      "application/vnd.jupyter.widget-view+json": {
       "model_id": "",
       "version_major": 2,
       "version_minor": 0
      },
      "text/plain": [
       "FigureCanvasNbAgg()"
      ]
     },
     "metadata": {},
     "output_type": "display_data"
    },
    {
     "data": {
      "text/plain": [
       "<matplotlib.axes._subplots.AxesSubplot at 0x7f90d9661780>"
      ]
     },
     "execution_count": 153,
     "metadata": {},
     "output_type": "execute_result"
    }
   ],
   "source": [
    "import pandas as pd\n",
    "df = pd.read_json('/mnt/hdd/data/gpu_run_debug0/diagnostic_results.json').T\n",
    "df[\"total_energy\"] = df[\"kinetic_energy\"] + df[\"potential_energy\"]\n",
    "\n",
    "from IPython.display import display\n",
    "\n",
    "unwrap = ['mean_r', 'std_r', 'mean_p', 'std_p']\n",
    "nested_data = {index: pd.DataFrame(df[index].values.tolist(), index=df.index, columns=['x', 'y', 'z']) for index in unwrap}\n",
    "directional_values = pd.concat(nested_data).stack().unstack(level=1).T\n",
    "# directional_values\n",
    "\n",
    "directional_values['mean_p'].plot()"
   ]
  },
  {
   "cell_type": "code",
   "execution_count": 154,
   "metadata": {},
   "outputs": [
    {
     "data": {
      "application/vnd.jupyter.widget-view+json": {
       "model_id": "",
       "version_major": 2,
       "version_minor": 0
      },
      "text/plain": [
       "FigureCanvasNbAgg()"
      ]
     },
     "metadata": {},
     "output_type": "display_data"
    },
    {
     "data": {
      "text/plain": [
       "<matplotlib.axes._subplots.AxesSubplot at 0x7f90d9becc88>"
      ]
     },
     "execution_count": 154,
     "metadata": {},
     "output_type": "execute_result"
    }
   ],
   "source": [
    "df.drop(columns=unwrap).drop(columns=['temperature']).plot()"
   ]
  },
  {
   "cell_type": "code",
   "execution_count": 155,
   "metadata": {},
   "outputs": [
    {
     "data": {
      "application/vnd.jupyter.widget-view+json": {
       "model_id": "",
       "version_major": 2,
       "version_minor": 0
      },
      "text/plain": [
       "FigureCanvasNbAgg()"
      ]
     },
     "metadata": {},
     "output_type": "display_data"
    },
    {
     "data": {
      "text/plain": [
       "<matplotlib.axes._subplots.AxesSubplot at 0x7f90da6d7d30>"
      ]
     },
     "execution_count": 155,
     "metadata": {},
     "output_type": "execute_result"
    }
   ],
   "source": [
    "df.plot(y='temperature')"
   ]
  },
  {
   "cell_type": "code",
   "execution_count": null,
   "metadata": {},
   "outputs": [],
   "source": []
  }
 ],
 "metadata": {
  "kernelspec": {
   "display_name": "Python [conda env:nbody]",
   "language": "python",
   "name": "conda-env-nbody-py"
  },
  "language_info": {
   "codemirror_mode": {
    "name": "ipython",
    "version": 3
   },
   "file_extension": ".py",
   "mimetype": "text/x-python",
   "name": "python",
   "nbconvert_exporter": "python",
   "pygments_lexer": "ipython3",
   "version": "3.7.1"
  }
 },
 "nbformat": 4,
 "nbformat_minor": 2
}
